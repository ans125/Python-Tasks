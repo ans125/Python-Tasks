{
 "cells": [
  {
   "cell_type": "code",
   "execution_count": 2,
   "id": "55a3ecce-fb06-484e-be5c-169ebf19ab40",
   "metadata": {},
   "outputs": [
    {
     "name": "stdin",
     "output_type": "stream",
     "text": [
      "Enter First Name Muhammad\n",
      "Enter Second Name Anas\n"
     ]
    },
    {
     "data": {
      "text/plain": [
       "'User First Name = Anas User Last Name = Muhammad'"
      ]
     },
     "execution_count": 2,
     "metadata": {},
     "output_type": "execute_result"
    }
   ],
   "source": [
    "# 1. Write a Python program that accepts the user's first and last name and prints them in reverse\n",
    "# order with a space between them\n",
    "\n",
    "firstName= input('Enter First Name')\n",
    "lastName= input('Enter Second Name')\n",
    "\n",
    "\"User First Name = \"+lastName+\" User Last Name = \"+firstName"
   ]
  },
  {
   "cell_type": "code",
   "execution_count": 9,
   "id": "b471d002-e946-4d1f-be76-40f470eb9e04",
   "metadata": {},
   "outputs": [
    {
     "data": {
      "text/plain": [
       "'2025-07-17 15-25-33'"
      ]
     },
     "execution_count": 9,
     "metadata": {},
     "output_type": "execute_result"
    }
   ],
   "source": [
    "# 2. Write a Python program to display the current date and time using the date time module\n",
    "from datetime import datetime \n",
    "\n",
    "now= datetime.now()\n",
    "result=now.strftime(\"%Y-%m-%d %H-%S-%M\")\n",
    "result\n",
    "\n"
   ]
  },
  {
   "cell_type": "code",
   "execution_count": 19,
   "id": "c0394e1d-76d4-4462-9be6-a96fb92c43d2",
   "metadata": {},
   "outputs": [
    {
     "name": "stdin",
     "output_type": "stream",
     "text": [
      "Enter the radius of circle 2\n"
     ]
    },
    {
     "name": "stdout",
     "output_type": "stream",
     "text": [
      "The area is =  12.5664  square units\n"
     ]
    }
   ],
   "source": [
    "## Write a Python program which accepts the radius of a circle from the user and computes the\n",
    "# area\n",
    "userData= int(input(\"Enter the radius of circle\"))\n",
    "# type(userData)\n",
    "# are formula pi r square\n",
    "pi = 3.1416\n",
    "print(\"The area is = \",(pi)*userData**2,\" square units\")\n"
   ]
  },
  {
   "cell_type": "code",
   "execution_count": 23,
   "id": "80e6ddaa-65f4-4f96-ab32-83d195bc905b",
   "metadata": {},
   "outputs": [
    {
     "name": "stdin",
     "output_type": "stream",
     "text": [
      "Enter Name 2\n",
      "Enter your Age 2\n",
      "Enter your City 2\n"
     ]
    },
    {
     "name": "stdout",
     "output_type": "stream",
     "text": [
      "User Name is : 2\n",
      "User Age is : 2\n",
      "User City is : 2\n"
     ]
    }
   ],
   "source": [
    "# 4. Write a Python program to display user details like name, age, and city in three different lines.\n",
    "# Input should be taken from the user\n",
    "\n",
    "userName= input(\"Enter Name\")\n",
    "userAge= input(\"Enter your Age\")\n",
    "userCity=input(\"Enter your City\")\n",
    "\n",
    "print(\"User Name is : \"+userName+\"\\n\"+\"User Age is : \"+userAge+\"\\n\"+\"User City is : \"+userCity)"
   ]
  },
  {
   "cell_type": "code",
   "execution_count": 37,
   "id": "1e013989-dbc7-4fec-bcdf-4e1a9af0f3b8",
   "metadata": {},
   "outputs": [
    {
     "name": "stdin",
     "output_type": "stream",
     "text": [
      "Enter your Mark of subject 1 3\n",
      "Enter your Mark of subject 2 2\n",
      "Enter your Mark of subject 3 3\n"
     ]
    },
    {
     "name": "stdout",
     "output_type": "stream",
     "text": [
      "Fail\n"
     ]
    }
   ],
   "source": [
    "# 5. Write a Python program that asks the user for their marks in three subjects and calculates the\n",
    "# average. Display if the student has passed (average ≥ 40) or failed\n",
    "\n",
    "subject1 = int(input(\"Enter your Mark of subject 1\"))\n",
    "subject2 = int(input(\"Enter your Mark of subject 2\"))\n",
    "subject3 = int(input(\"Enter your Mark of subject 3\"))\n",
    "# len()\n",
    "\n",
    "average=(subject1+subject2+subject3)/3\n",
    "\n",
    "print(\"Passed\" * (average >= 40) or \"Failed\")\n",
    "# print(average)\n"
   ]
  },
  {
   "cell_type": "code",
   "execution_count": 39,
   "id": "eff939c5-60d9-4df0-bb0e-ae0758d27241",
   "metadata": {},
   "outputs": [
    {
     "name": "stdin",
     "output_type": "stream",
     "text": [
      "Enter temperature in Celsius 2\n"
     ]
    },
    {
     "name": "stdout",
     "output_type": "stream",
     "text": [
      "The temperature in Fahrenheit is :  35.6\n"
     ]
    }
   ],
   "source": [
    "# 6. Write a Python program to accept a temperature in Celsius from the user and convert it to\n",
    "# Fahrenheit. Use the formula F = (C × 9/5) + 32\n",
    "\n",
    "temperature = int(input(\"Enter temperature in Celsius\"))\n",
    "fahrenheit=(temperature*9/5)+32\n",
    "print(\"The temperature in Fahrenheit is : \",fahrenheit)"
   ]
  },
  {
   "cell_type": "code",
   "execution_count": 61,
   "id": "a5ade092-1ce6-4265-a0e1-cb987c94a843",
   "metadata": {},
   "outputs": [
    {
     "name": "stdin",
     "output_type": "stream",
     "text": [
      "Enter your Name anas\n",
      "Enter your birthYear 2002\n"
     ]
    },
    {
     "name": "stdout",
     "output_type": "stream",
     "text": [
      "User Name is :  anas  UserAge is :  23\n"
     ]
    }
   ],
   "source": [
    "# 7. Write a Python program that takes the user's name and birth year and calculates their current\n",
    "# age\n",
    "from datetime import datetime\n",
    "\n",
    "userName=input(\"Enter your Name\")\n",
    "birthYear=int(input(\"Enter your birthYear\"))\n",
    "\n",
    "current_year = datetime.now().year\n",
    "Userage=(current_year-birthYear)\n",
    "# print(current_year)\n",
    "print(\"User Name is : \", userName,\" UserAge is : \", Userage)"
   ]
  },
  {
   "cell_type": "code",
   "execution_count": 62,
   "id": "5a7c6f8b-a4a4-4f87-90d7-646a418c505d",
   "metadata": {},
   "outputs": [
    {
     "name": "stdin",
     "output_type": "stream",
     "text": [
      "Enter the number 2\n"
     ]
    },
    {
     "name": "stdout",
     "output_type": "stream",
     "text": [
      "Square of number is :  4 Cube of number 8\n"
     ]
    }
   ],
   "source": [
    "# 8. Write a Python program to calculate the square and cube of a number entered by the user\n",
    "number=int(input(\"Enter the number\"))\n",
    "square=number**2\n",
    "cube=number**3\n",
    "print(\"Square of number is : \",square,\"Cube of number\",cube)\n"
   ]
  },
  {
   "cell_type": "code",
   "execution_count": 67,
   "id": "8178c524-48be-4931-a5ea-f78f4b545ef6",
   "metadata": {},
   "outputs": [
    {
     "name": "stdin",
     "output_type": "stream",
     "text": [
      "Enter the Number 3\n"
     ]
    },
    {
     "name": "stdout",
     "output_type": "stream",
     "text": [
      "odd\n"
     ]
    }
   ],
   "source": [
    "# 9. Write a Python program to take a number from the user and check whether it is even or odd\n",
    "\n",
    "number=int(input(\"Enter the Number\"))\n",
    "even_odd=number/2\n",
    "\n",
    "print(\"even\"*(number % 2 == 0) + \"odd\"*(number % 2 != 0))"
   ]
  },
  {
   "cell_type": "code",
   "execution_count": 75,
   "id": "81bfab41-eea3-4d28-87a3-0df258dd386e",
   "metadata": {},
   "outputs": [
    {
     "name": "stdin",
     "output_type": "stream",
     "text": [
      "Enter Number One 2\n",
      "Enter Number Two 5\n"
     ]
    },
    {
     "name": "stdout",
     "output_type": "stream",
     "text": [
      "The larger number is: 5\n"
     ]
    }
   ],
   "source": [
    "# 10. Write a Python program to accept two numbers from the user and display the larger number\n",
    "\n",
    "number1=int(input(\"Enter Number One\"))\n",
    "number2=int(input(\"Enter Number Two\"))\n",
    "larger = number1 * (number1 >= number2) + number2 * (number2 > number1)\n",
    "\n",
    "print(\"The larger number is:\", larger)"
   ]
  },
  {
   "cell_type": "code",
   "execution_count": null,
   "id": "a53e36c4-8e55-49b7-8ad4-2c9ecb42599b",
   "metadata": {},
   "outputs": [],
   "source": []
  }
 ],
 "metadata": {
  "kernelspec": {
   "display_name": "Python 3 (ipykernel)",
   "language": "python",
   "name": "python3"
  },
  "language_info": {
   "codemirror_mode": {
    "name": "ipython",
    "version": 3
   },
   "file_extension": ".py",
   "mimetype": "text/x-python",
   "name": "python",
   "nbconvert_exporter": "python",
   "pygments_lexer": "ipython3",
   "version": "3.13.5"
  }
 },
 "nbformat": 4,
 "nbformat_minor": 5
}
